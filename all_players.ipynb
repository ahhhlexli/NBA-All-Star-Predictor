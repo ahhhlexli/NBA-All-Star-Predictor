{
 "metadata": {
  "language_info": {
   "codemirror_mode": {
    "name": "ipython",
    "version": 3
   },
   "file_extension": ".py",
   "mimetype": "text/x-python",
   "name": "python",
   "nbconvert_exporter": "python",
   "pygments_lexer": "ipython3",
   "version": "3.8.3-final"
  },
  "orig_nbformat": 2,
  "kernelspec": {
   "name": "python3",
   "display_name": "Python 3",
   "language": "python"
  }
 },
 "nbformat": 4,
 "nbformat_minor": 2,
 "cells": [
  {
   "cell_type": "code",
   "execution_count": 1,
   "metadata": {},
   "outputs": [],
   "source": [
    "import pandas as pd"
   ]
  },
  {
   "cell_type": "code",
   "execution_count": 2,
   "metadata": {},
   "outputs": [],
   "source": [
    "headers = ['player','season', 'age','team','league', 'position', 'games_played'\t, 'games_started', 'minutes', 'fg', 'fga','fg_percent', 'threes_made', 'threes_attempted', 'threepoint_percent','twos_made', 'twos_attempted', 'twopoint_percent', 'efg', 'ft', 'fta', 'ft_percent', 'orb', 'drb', 'rebounds', 'assists', 'steals', 'blocks', 'turnovers', 'fouls', 'points', 'trip_dbl']"
   ]
  },
  {
   "cell_type": "code",
   "execution_count": 3,
   "metadata": {},
   "outputs": [],
   "source": [
    "df = pd.read_csv('player_data.csv', sep=',', names=headers)"
   ]
  },
  {
   "cell_type": "code",
   "execution_count": 4,
   "metadata": {},
   "outputs": [
    {
     "output_type": "execute_result",
     "data": {
      "text/plain": [
       "              player   season  age team league position  games_played  \\\n",
       "0  Tariq Abdul-Wahad  1997-98   23  SAC    NBA       SG            59   \n",
       "1  Tariq Abdul-Wahad  1998-99   24  SAC    NBA       SG            49   \n",
       "2  Tariq Abdul-Wahad  1999-00   25  TOT    NBA       SG            61   \n",
       "3  Tariq Abdul-Wahad  1999-00   25  ORL    NBA       SG            46   \n",
       "4  Tariq Abdul-Wahad  1999-00   25  DEN    NBA       SG            15   \n",
       "\n",
       "   games_started  minutes   fg  ...  orb  drb  rebounds  assists  steals  \\\n",
       "0             16      959  144  ...   44   72       116       51    35.0   \n",
       "1             49     1205  177  ...   72  114       186       50    50.0   \n",
       "2             56     1578  274  ...  101  190       291       98    59.0   \n",
       "3             46     1205  223  ...   77  162       239       72    53.0   \n",
       "4             10      373   51  ...   24   28        52       26     6.0   \n",
       "\n",
       "   blocks  turnovers  fouls  points  trip_dbl  \n",
       "0    13.0       65.0   81.0   376.0       NaN  \n",
       "1    16.0       70.0  121.0   454.0       NaN  \n",
       "2    28.0      106.0  147.0   697.0       NaN  \n",
       "3    16.0       87.0  116.0   563.0       NaN  \n",
       "4    12.0       19.0   31.0   134.0       NaN  \n",
       "\n",
       "[5 rows x 32 columns]"
      ],
      "text/html": "<div>\n<style scoped>\n    .dataframe tbody tr th:only-of-type {\n        vertical-align: middle;\n    }\n\n    .dataframe tbody tr th {\n        vertical-align: top;\n    }\n\n    .dataframe thead th {\n        text-align: right;\n    }\n</style>\n<table border=\"1\" class=\"dataframe\">\n  <thead>\n    <tr style=\"text-align: right;\">\n      <th></th>\n      <th>player</th>\n      <th>season</th>\n      <th>age</th>\n      <th>team</th>\n      <th>league</th>\n      <th>position</th>\n      <th>games_played</th>\n      <th>games_started</th>\n      <th>minutes</th>\n      <th>fg</th>\n      <th>...</th>\n      <th>orb</th>\n      <th>drb</th>\n      <th>rebounds</th>\n      <th>assists</th>\n      <th>steals</th>\n      <th>blocks</th>\n      <th>turnovers</th>\n      <th>fouls</th>\n      <th>points</th>\n      <th>trip_dbl</th>\n    </tr>\n  </thead>\n  <tbody>\n    <tr>\n      <th>0</th>\n      <td>Tariq Abdul-Wahad</td>\n      <td>1997-98</td>\n      <td>23</td>\n      <td>SAC</td>\n      <td>NBA</td>\n      <td>SG</td>\n      <td>59</td>\n      <td>16</td>\n      <td>959</td>\n      <td>144</td>\n      <td>...</td>\n      <td>44</td>\n      <td>72</td>\n      <td>116</td>\n      <td>51</td>\n      <td>35.0</td>\n      <td>13.0</td>\n      <td>65.0</td>\n      <td>81.0</td>\n      <td>376.0</td>\n      <td>NaN</td>\n    </tr>\n    <tr>\n      <th>1</th>\n      <td>Tariq Abdul-Wahad</td>\n      <td>1998-99</td>\n      <td>24</td>\n      <td>SAC</td>\n      <td>NBA</td>\n      <td>SG</td>\n      <td>49</td>\n      <td>49</td>\n      <td>1205</td>\n      <td>177</td>\n      <td>...</td>\n      <td>72</td>\n      <td>114</td>\n      <td>186</td>\n      <td>50</td>\n      <td>50.0</td>\n      <td>16.0</td>\n      <td>70.0</td>\n      <td>121.0</td>\n      <td>454.0</td>\n      <td>NaN</td>\n    </tr>\n    <tr>\n      <th>2</th>\n      <td>Tariq Abdul-Wahad</td>\n      <td>1999-00</td>\n      <td>25</td>\n      <td>TOT</td>\n      <td>NBA</td>\n      <td>SG</td>\n      <td>61</td>\n      <td>56</td>\n      <td>1578</td>\n      <td>274</td>\n      <td>...</td>\n      <td>101</td>\n      <td>190</td>\n      <td>291</td>\n      <td>98</td>\n      <td>59.0</td>\n      <td>28.0</td>\n      <td>106.0</td>\n      <td>147.0</td>\n      <td>697.0</td>\n      <td>NaN</td>\n    </tr>\n    <tr>\n      <th>3</th>\n      <td>Tariq Abdul-Wahad</td>\n      <td>1999-00</td>\n      <td>25</td>\n      <td>ORL</td>\n      <td>NBA</td>\n      <td>SG</td>\n      <td>46</td>\n      <td>46</td>\n      <td>1205</td>\n      <td>223</td>\n      <td>...</td>\n      <td>77</td>\n      <td>162</td>\n      <td>239</td>\n      <td>72</td>\n      <td>53.0</td>\n      <td>16.0</td>\n      <td>87.0</td>\n      <td>116.0</td>\n      <td>563.0</td>\n      <td>NaN</td>\n    </tr>\n    <tr>\n      <th>4</th>\n      <td>Tariq Abdul-Wahad</td>\n      <td>1999-00</td>\n      <td>25</td>\n      <td>DEN</td>\n      <td>NBA</td>\n      <td>SG</td>\n      <td>15</td>\n      <td>10</td>\n      <td>373</td>\n      <td>51</td>\n      <td>...</td>\n      <td>24</td>\n      <td>28</td>\n      <td>52</td>\n      <td>26</td>\n      <td>6.0</td>\n      <td>12.0</td>\n      <td>19.0</td>\n      <td>31.0</td>\n      <td>134.0</td>\n      <td>NaN</td>\n    </tr>\n  </tbody>\n</table>\n<p>5 rows × 32 columns</p>\n</div>"
     },
     "metadata": {},
     "execution_count": 4
    }
   ],
   "source": [
    "df.head()"
   ]
  },
  {
   "cell_type": "code",
   "execution_count": 5,
   "metadata": {},
   "outputs": [],
   "source": [
    "df.season = df.season.str.extract(r'.*-(\\d+)')\n"
   ]
  },
  {
   "cell_type": "code",
   "execution_count": 6,
   "metadata": {},
   "outputs": [],
   "source": [
    "df.season = df.season.apply(lambda x: int('19' + x) if 22 <= int(x) <= 99 else int('20' + x))"
   ]
  },
  {
   "cell_type": "code",
   "execution_count": 7,
   "metadata": {},
   "outputs": [
    {
     "output_type": "execute_result",
     "data": {
      "text/plain": [
       "[]"
      ]
     },
     "metadata": {},
     "execution_count": 7
    }
   ],
   "source": [
    "list(df[df.season < 1996].groupby('player').count().index)"
   ]
  },
  {
   "cell_type": "code",
   "execution_count": 11,
   "metadata": {},
   "outputs": [
    {
     "output_type": "execute_result",
     "data": {
      "text/plain": [
       "Index(['player', 'season', 'age', 'team', 'league', 'position', 'games_played',\n",
       "       'games_started', 'minutes', 'fg', 'fga', 'fg_percent', 'threes_made',\n",
       "       'threes_attempted', 'threepoint_percent', 'twos_made', 'twos_attempted',\n",
       "       'twopoint_percent', 'efg', 'ft', 'fta', 'ft_percent', 'orb', 'drb',\n",
       "       'rebounds', 'assists', 'steals', 'blocks', 'turnovers', 'fouls',\n",
       "       'points', 'trip_dbl'],\n",
       "      dtype='object')"
      ]
     },
     "metadata": {},
     "execution_count": 11
    }
   ],
   "source": [
    "df.columns"
   ]
  },
  {
   "cell_type": "code",
   "execution_count": 73,
   "metadata": {},
   "outputs": [
    {
     "output_type": "error",
     "ename": "AttributeError",
     "evalue": "'DataFrameGroupBy' object has no attribute 'index'",
     "traceback": [
      "\u001b[1;31m---------------------------------------------------------------------------\u001b[0m",
      "\u001b[1;31mAttributeError\u001b[0m                            Traceback (most recent call last)",
      "\u001b[1;32m<ipython-input-73-53de9b4e2d0c>\u001b[0m in \u001b[0;36m<module>\u001b[1;34m\u001b[0m\n\u001b[1;32m----> 1\u001b[1;33m \u001b[0mtest\u001b[0m\u001b[1;33m.\u001b[0m\u001b[0mindex\u001b[0m\u001b[1;33m\u001b[0m\u001b[1;33m\u001b[0m\u001b[0m\n\u001b[0m",
      "\u001b[1;32m~\\anaconda3\\envs\\FTDS\\lib\\site-packages\\pandas\\core\\groupby\\groupby.py\u001b[0m in \u001b[0;36m__getattr__\u001b[1;34m(self, attr)\u001b[0m\n\u001b[0;32m    750\u001b[0m             \u001b[1;32mreturn\u001b[0m \u001b[0mself\u001b[0m\u001b[1;33m[\u001b[0m\u001b[0mattr\u001b[0m\u001b[1;33m]\u001b[0m\u001b[1;33m\u001b[0m\u001b[1;33m\u001b[0m\u001b[0m\n\u001b[0;32m    751\u001b[0m \u001b[1;33m\u001b[0m\u001b[0m\n\u001b[1;32m--> 752\u001b[1;33m         raise AttributeError(\n\u001b[0m\u001b[0;32m    753\u001b[0m             \u001b[1;34mf\"'{type(self).__name__}' object has no attribute '{attr}'\"\u001b[0m\u001b[1;33m\u001b[0m\u001b[1;33m\u001b[0m\u001b[0m\n\u001b[0;32m    754\u001b[0m         )\n",
      "\u001b[1;31mAttributeError\u001b[0m: 'DataFrameGroupBy' object has no attribute 'index'"
     ]
    }
   ],
   "source": []
  }
 ]
}