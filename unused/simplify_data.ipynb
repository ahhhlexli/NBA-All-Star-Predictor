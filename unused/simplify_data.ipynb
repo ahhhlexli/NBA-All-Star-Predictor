{
 "metadata": {
  "language_info": {
   "codemirror_mode": {
    "name": "ipython",
    "version": 3
   },
   "file_extension": ".py",
   "mimetype": "text/x-python",
   "name": "python",
   "nbconvert_exporter": "python",
   "pygments_lexer": "ipython3",
   "version": "3.9.0-final"
  },
  "orig_nbformat": 2,
  "kernelspec": {
   "name": "python3",
   "display_name": "Python 3.9.0 64-bit",
   "metadata": {
    "interpreter": {
     "hash": "a94a13edc6fd95a8333d978380d393ad7c0ae4950a8311d1ec65a53d690fc1c6"
    }
   }
  }
 },
 "nbformat": 4,
 "nbformat_minor": 2,
 "cells": [
  {
   "cell_type": "code",
   "execution_count": 32,
   "metadata": {},
   "outputs": [],
   "source": [
    "import pandas as pd "
   ]
  },
  {
   "cell_type": "code",
   "execution_count": 33,
   "metadata": {},
   "outputs": [],
   "source": [
    "df = pd.read_csv('all_data.csv')"
   ]
  },
  {
   "cell_type": "code",
   "execution_count": 34,
   "metadata": {},
   "outputs": [
    {
     "output_type": "execute_result",
     "data": {
      "text/plain": [
       "Index(['player', 'season', 'age', 'team', 'league', 'position', 'games_played',\n",
       "       'games_started', 'minutes', 'fg', 'fga', 'fg_percent', 'threes_made',\n",
       "       'threes_attempted', 'threepoint_percent', 'twos_made', 'twos_attempted',\n",
       "       'twopoint_percent', 'efg', 'ft', 'fta', 'ft_percent', 'orb', 'drb',\n",
       "       'rebounds', 'assists', 'steals', 'blocks', 'turnovers', 'fouls',\n",
       "       'points', 'trip_dbl', 'all_star', 'minutes_per_game', 'fg_per_game',\n",
       "       'fga_per_game', 'threes_made_per_game', 'threes_attempted_per_game',\n",
       "       'twos_made_per_game', 'twos_attempted_per_game', 'ft_per_game',\n",
       "       'fta_per_game', 'orb_per_game', 'drb_per_game', 'rebounds_per_game',\n",
       "       'assists_per_game', 'steals_per_game', 'blocks_per_game',\n",
       "       'turnovers_per_game', 'fouls_per_game', 'points_per_game'],\n",
       "      dtype='object')"
      ]
     },
     "metadata": {},
     "execution_count": 34
    }
   ],
   "source": [
    "df.columns"
   ]
  },
  {
   "cell_type": "code",
   "execution_count": 35,
   "metadata": {},
   "outputs": [],
   "source": [
    "#df = df[['age', 'position', 'games_played', 'games_started', 'minutes', 'fg', 'fga', 'threes_made', 'threes_attempted', 'ft', 'fta', 'rebounds', 'assists', 'steals', 'blocks', 'turnovers', 'fouls', 'points', 'trip_dbl', 'all_star']]\r\n",
    "df = df[['age', 'position', 'games_played', 'games_started', 'minutes', 'rebounds', 'assists', 'steals', 'blocks', 'turnovers', 'fouls', 'points', 'trip_dbl', 'all_star']]"
   ]
  },
  {
   "cell_type": "code",
   "execution_count": 36,
   "metadata": {},
   "outputs": [
    {
     "output_type": "execute_result",
     "data": {
      "text/plain": [
       "No     11741\n",
       "Yes      536\n",
       "Name: all_star, dtype: int64"
      ]
     },
     "metadata": {},
     "execution_count": 36
    }
   ],
   "source": [
    "df.all_star.value_counts()"
   ]
  },
  {
   "cell_type": "code",
   "execution_count": 37,
   "metadata": {},
   "outputs": [],
   "source": [
    "df.all_star = [1 if i == 'Yes' else 0 for i in df.all_star]"
   ]
  },
  {
   "cell_type": "code",
   "execution_count": 38,
   "metadata": {},
   "outputs": [
    {
     "output_type": "execute_result",
     "data": {
      "text/plain": [
       "0    11741\n",
       "1      536\n",
       "Name: all_star, dtype: int64"
      ]
     },
     "metadata": {},
     "execution_count": 38
    }
   ],
   "source": [
    "df.all_star.value_counts()"
   ]
  },
  {
   "cell_type": "code",
   "execution_count": 39,
   "metadata": {},
   "outputs": [
    {
     "output_type": "execute_result",
     "data": {
      "text/plain": [
       "   age position  games_played  games_started  minutes  rebounds  assists  \\\n",
       "0   23       SG            59             16      959       116       51   \n",
       "1   24       SG            49             49     1205       186       50   \n",
       "2   25       SG            61             56     1578       291       98   \n",
       "3   25       SG            46             46     1205       239       72   \n",
       "4   25       SG            15             10      373        52       26   \n",
       "\n",
       "   steals  blocks  turnovers  fouls  points  trip_dbl  all_star  \n",
       "0      35      13         65     81     376         0         0  \n",
       "1      50      16         70    121     454         0         0  \n",
       "2      59      28        106    147     697         0         0  \n",
       "3      53      16         87    116     563         0         0  \n",
       "4       6      12         19     31     134         0         0  "
      ],
      "text/html": "<div>\n<style scoped>\n    .dataframe tbody tr th:only-of-type {\n        vertical-align: middle;\n    }\n\n    .dataframe tbody tr th {\n        vertical-align: top;\n    }\n\n    .dataframe thead th {\n        text-align: right;\n    }\n</style>\n<table border=\"1\" class=\"dataframe\">\n  <thead>\n    <tr style=\"text-align: right;\">\n      <th></th>\n      <th>age</th>\n      <th>position</th>\n      <th>games_played</th>\n      <th>games_started</th>\n      <th>minutes</th>\n      <th>rebounds</th>\n      <th>assists</th>\n      <th>steals</th>\n      <th>blocks</th>\n      <th>turnovers</th>\n      <th>fouls</th>\n      <th>points</th>\n      <th>trip_dbl</th>\n      <th>all_star</th>\n    </tr>\n  </thead>\n  <tbody>\n    <tr>\n      <th>0</th>\n      <td>23</td>\n      <td>SG</td>\n      <td>59</td>\n      <td>16</td>\n      <td>959</td>\n      <td>116</td>\n      <td>51</td>\n      <td>35</td>\n      <td>13</td>\n      <td>65</td>\n      <td>81</td>\n      <td>376</td>\n      <td>0</td>\n      <td>0</td>\n    </tr>\n    <tr>\n      <th>1</th>\n      <td>24</td>\n      <td>SG</td>\n      <td>49</td>\n      <td>49</td>\n      <td>1205</td>\n      <td>186</td>\n      <td>50</td>\n      <td>50</td>\n      <td>16</td>\n      <td>70</td>\n      <td>121</td>\n      <td>454</td>\n      <td>0</td>\n      <td>0</td>\n    </tr>\n    <tr>\n      <th>2</th>\n      <td>25</td>\n      <td>SG</td>\n      <td>61</td>\n      <td>56</td>\n      <td>1578</td>\n      <td>291</td>\n      <td>98</td>\n      <td>59</td>\n      <td>28</td>\n      <td>106</td>\n      <td>147</td>\n      <td>697</td>\n      <td>0</td>\n      <td>0</td>\n    </tr>\n    <tr>\n      <th>3</th>\n      <td>25</td>\n      <td>SG</td>\n      <td>46</td>\n      <td>46</td>\n      <td>1205</td>\n      <td>239</td>\n      <td>72</td>\n      <td>53</td>\n      <td>16</td>\n      <td>87</td>\n      <td>116</td>\n      <td>563</td>\n      <td>0</td>\n      <td>0</td>\n    </tr>\n    <tr>\n      <th>4</th>\n      <td>25</td>\n      <td>SG</td>\n      <td>15</td>\n      <td>10</td>\n      <td>373</td>\n      <td>52</td>\n      <td>26</td>\n      <td>6</td>\n      <td>12</td>\n      <td>19</td>\n      <td>31</td>\n      <td>134</td>\n      <td>0</td>\n      <td>0</td>\n    </tr>\n  </tbody>\n</table>\n</div>"
     },
     "metadata": {},
     "execution_count": 39
    }
   ],
   "source": [
    "df.head()"
   ]
  },
  {
   "cell_type": "code",
   "execution_count": 29,
   "metadata": {},
   "outputs": [],
   "source": []
  },
  {
   "cell_type": "code",
   "execution_count": 40,
   "metadata": {},
   "outputs": [],
   "source": [
    "df.to_csv('simple_data.csv', index=False)"
   ]
  },
  {
   "cell_type": "code",
   "execution_count": 41,
   "metadata": {},
   "outputs": [
    {
     "output_type": "execute_result",
     "data": {
      "text/plain": [
       "Index(['age', 'position', 'games_played', 'games_started', 'minutes',\n",
       "       'rebounds', 'assists', 'steals', 'blocks', 'turnovers', 'fouls',\n",
       "       'points', 'trip_dbl', 'all_star'],\n",
       "      dtype='object')"
      ]
     },
     "metadata": {},
     "execution_count": 41
    }
   ],
   "source": [
    "df.columns"
   ]
  },
  {
   "cell_type": "code",
   "execution_count": null,
   "metadata": {},
   "outputs": [],
   "source": []
  }
 ]
}