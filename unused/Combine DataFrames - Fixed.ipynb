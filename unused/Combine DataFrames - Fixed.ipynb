{
 "metadata": {
  "language_info": {
   "codemirror_mode": {
    "name": "ipython",
    "version": 3
   },
   "file_extension": ".py",
   "mimetype": "text/x-python",
   "name": "python",
   "nbconvert_exporter": "python",
   "pygments_lexer": "ipython3",
   "version": "3.8.3-final"
  },
  "orig_nbformat": 2,
  "kernelspec": {
   "name": "python3",
   "display_name": "Python 3.8.3 64-bit",
   "metadata": {
    "interpreter": {
     "hash": "1baa965d5efe3ac65b79dfc60c0d706280b1da80fedb7760faf2759126c4f253"
    }
   }
  }
 },
 "nbformat": 4,
 "nbformat_minor": 2,
 "cells": [
  {
   "source": [
    "# Combine and Remove Duplicated Columns for Overall DataFrame"
   ],
   "cell_type": "markdown",
   "metadata": {}
  },
  {
   "cell_type": "code",
   "execution_count": 17,
   "metadata": {},
   "outputs": [],
   "source": [
    "import pandas as pd"
   ]
  },
  {
   "cell_type": "code",
   "execution_count": 18,
   "metadata": {},
   "outputs": [],
   "source": [
    "headers = ['player','season', 'age','team','league', 'position', 'games_played' , 'games_started', 'minutes', 'fg', 'fga','fg_percent', 'threes_made', 'threes_attempted', 'threepoint_percent','twos_made', 'twos_attempted', 'twopoint_percent', 'efg', 'ft', 'fta', 'ft_percent', 'orb', 'drb', 'rebounds', 'assists', 'steals', 'blocks', 'turnovers', 'fouls', 'points', 'trip_dbl', 'all_star']"
   ]
  },
  {
   "cell_type": "code",
   "execution_count": 19,
   "metadata": {},
   "outputs": [],
   "source": [
    "df = pd.read_csv('players_total.csv', encoding='utf-8', names=headers)"
   ]
  },
  {
   "cell_type": "code",
   "execution_count": 20,
   "metadata": {},
   "outputs": [
    {
     "output_type": "execute_result",
     "data": {
      "text/plain": [
       "                  player   season  age team league position  games_played  \\\n",
       "0      Tariq Abdul-Wahad  1997-98   23  SAC    NBA       SG            59   \n",
       "1      Tariq Abdul-Wahad  1998-99   24  SAC    NBA       SG            49   \n",
       "2      Tariq Abdul-Wahad  1999-00   25  TOT    NBA       SG            61   \n",
       "3      Tariq Abdul-Wahad  1999-00   25  ORL    NBA       SG            46   \n",
       "4      Tariq Abdul-Wahad  1999-00   25  DEN    NBA       SG            15   \n",
       "...                  ...      ...  ...  ...    ...      ...           ...   \n",
       "12272        Ivica Zubac  2018-19   21  TOT    NBA        C            59   \n",
       "12273        Ivica Zubac  2018-19   21  LAL    NBA        C            33   \n",
       "12274        Ivica Zubac  2018-19   21  LAC    NBA        C            26   \n",
       "12275        Ivica Zubac  2019-20   22  LAC    NBA        C            72   \n",
       "12276        Ivica Zubac  2020-21   23  LAC    NBA        C            34   \n",
       "\n",
       "       games_started  minutes   fg  ...  drb  rebounds  assists  steals  \\\n",
       "0                 16      959  144  ...   72       116       51      35   \n",
       "1                 49     1205  177  ...  114       186       50      50   \n",
       "2                 56     1578  274  ...  190       291       98      59   \n",
       "3                 46     1205  223  ...  162       239       72      53   \n",
       "4                 10      373   51  ...   28        52       26       6   \n",
       "...              ...      ...  ...  ...  ...       ...      ...     ...   \n",
       "12272             37     1040  212  ...  247       362       63      14   \n",
       "12273             12      516  112  ...  108       162       25       4   \n",
       "12274             25      524  100  ...  139       200       38      10   \n",
       "12275             70     1326  236  ...  346       543       82      16   \n",
       "12276              1      670  109  ...  155       233       37      12   \n",
       "\n",
       "       blocks  turnovers  fouls  points  trip_dbl  all_star  \n",
       "0          13         65     81     376         0        No  \n",
       "1          16         70    121     454         0        No  \n",
       "2          28        106    147     697         0        No  \n",
       "3          16         87    116     563         0        No  \n",
       "4          12         19     31     134         0        No  \n",
       "...       ...        ...    ...     ...       ...       ...  \n",
       "12272      51         70    137     525         0        No  \n",
       "12273      27         33     73     281         0        No  \n",
       "12274      24         37     64     244         0        No  \n",
       "12275      66         61    168     596         0        No  \n",
       "12276      28         33     84     285         0        No  \n",
       "\n",
       "[12277 rows x 33 columns]"
      ],
      "text/html": "<div>\n<style scoped>\n    .dataframe tbody tr th:only-of-type {\n        vertical-align: middle;\n    }\n\n    .dataframe tbody tr th {\n        vertical-align: top;\n    }\n\n    .dataframe thead th {\n        text-align: right;\n    }\n</style>\n<table border=\"1\" class=\"dataframe\">\n  <thead>\n    <tr style=\"text-align: right;\">\n      <th></th>\n      <th>player</th>\n      <th>season</th>\n      <th>age</th>\n      <th>team</th>\n      <th>league</th>\n      <th>position</th>\n      <th>games_played</th>\n      <th>games_started</th>\n      <th>minutes</th>\n      <th>fg</th>\n      <th>...</th>\n      <th>drb</th>\n      <th>rebounds</th>\n      <th>assists</th>\n      <th>steals</th>\n      <th>blocks</th>\n      <th>turnovers</th>\n      <th>fouls</th>\n      <th>points</th>\n      <th>trip_dbl</th>\n      <th>all_star</th>\n    </tr>\n  </thead>\n  <tbody>\n    <tr>\n      <th>0</th>\n      <td>Tariq Abdul-Wahad</td>\n      <td>1997-98</td>\n      <td>23</td>\n      <td>SAC</td>\n      <td>NBA</td>\n      <td>SG</td>\n      <td>59</td>\n      <td>16</td>\n      <td>959</td>\n      <td>144</td>\n      <td>...</td>\n      <td>72</td>\n      <td>116</td>\n      <td>51</td>\n      <td>35</td>\n      <td>13</td>\n      <td>65</td>\n      <td>81</td>\n      <td>376</td>\n      <td>0</td>\n      <td>No</td>\n    </tr>\n    <tr>\n      <th>1</th>\n      <td>Tariq Abdul-Wahad</td>\n      <td>1998-99</td>\n      <td>24</td>\n      <td>SAC</td>\n      <td>NBA</td>\n      <td>SG</td>\n      <td>49</td>\n      <td>49</td>\n      <td>1205</td>\n      <td>177</td>\n      <td>...</td>\n      <td>114</td>\n      <td>186</td>\n      <td>50</td>\n      <td>50</td>\n      <td>16</td>\n      <td>70</td>\n      <td>121</td>\n      <td>454</td>\n      <td>0</td>\n      <td>No</td>\n    </tr>\n    <tr>\n      <th>2</th>\n      <td>Tariq Abdul-Wahad</td>\n      <td>1999-00</td>\n      <td>25</td>\n      <td>TOT</td>\n      <td>NBA</td>\n      <td>SG</td>\n      <td>61</td>\n      <td>56</td>\n      <td>1578</td>\n      <td>274</td>\n      <td>...</td>\n      <td>190</td>\n      <td>291</td>\n      <td>98</td>\n      <td>59</td>\n      <td>28</td>\n      <td>106</td>\n      <td>147</td>\n      <td>697</td>\n      <td>0</td>\n      <td>No</td>\n    </tr>\n    <tr>\n      <th>3</th>\n      <td>Tariq Abdul-Wahad</td>\n      <td>1999-00</td>\n      <td>25</td>\n      <td>ORL</td>\n      <td>NBA</td>\n      <td>SG</td>\n      <td>46</td>\n      <td>46</td>\n      <td>1205</td>\n      <td>223</td>\n      <td>...</td>\n      <td>162</td>\n      <td>239</td>\n      <td>72</td>\n      <td>53</td>\n      <td>16</td>\n      <td>87</td>\n      <td>116</td>\n      <td>563</td>\n      <td>0</td>\n      <td>No</td>\n    </tr>\n    <tr>\n      <th>4</th>\n      <td>Tariq Abdul-Wahad</td>\n      <td>1999-00</td>\n      <td>25</td>\n      <td>DEN</td>\n      <td>NBA</td>\n      <td>SG</td>\n      <td>15</td>\n      <td>10</td>\n      <td>373</td>\n      <td>51</td>\n      <td>...</td>\n      <td>28</td>\n      <td>52</td>\n      <td>26</td>\n      <td>6</td>\n      <td>12</td>\n      <td>19</td>\n      <td>31</td>\n      <td>134</td>\n      <td>0</td>\n      <td>No</td>\n    </tr>\n    <tr>\n      <th>...</th>\n      <td>...</td>\n      <td>...</td>\n      <td>...</td>\n      <td>...</td>\n      <td>...</td>\n      <td>...</td>\n      <td>...</td>\n      <td>...</td>\n      <td>...</td>\n      <td>...</td>\n      <td>...</td>\n      <td>...</td>\n      <td>...</td>\n      <td>...</td>\n      <td>...</td>\n      <td>...</td>\n      <td>...</td>\n      <td>...</td>\n      <td>...</td>\n      <td>...</td>\n      <td>...</td>\n    </tr>\n    <tr>\n      <th>12272</th>\n      <td>Ivica Zubac</td>\n      <td>2018-19</td>\n      <td>21</td>\n      <td>TOT</td>\n      <td>NBA</td>\n      <td>C</td>\n      <td>59</td>\n      <td>37</td>\n      <td>1040</td>\n      <td>212</td>\n      <td>...</td>\n      <td>247</td>\n      <td>362</td>\n      <td>63</td>\n      <td>14</td>\n      <td>51</td>\n      <td>70</td>\n      <td>137</td>\n      <td>525</td>\n      <td>0</td>\n      <td>No</td>\n    </tr>\n    <tr>\n      <th>12273</th>\n      <td>Ivica Zubac</td>\n      <td>2018-19</td>\n      <td>21</td>\n      <td>LAL</td>\n      <td>NBA</td>\n      <td>C</td>\n      <td>33</td>\n      <td>12</td>\n      <td>516</td>\n      <td>112</td>\n      <td>...</td>\n      <td>108</td>\n      <td>162</td>\n      <td>25</td>\n      <td>4</td>\n      <td>27</td>\n      <td>33</td>\n      <td>73</td>\n      <td>281</td>\n      <td>0</td>\n      <td>No</td>\n    </tr>\n    <tr>\n      <th>12274</th>\n      <td>Ivica Zubac</td>\n      <td>2018-19</td>\n      <td>21</td>\n      <td>LAC</td>\n      <td>NBA</td>\n      <td>C</td>\n      <td>26</td>\n      <td>25</td>\n      <td>524</td>\n      <td>100</td>\n      <td>...</td>\n      <td>139</td>\n      <td>200</td>\n      <td>38</td>\n      <td>10</td>\n      <td>24</td>\n      <td>37</td>\n      <td>64</td>\n      <td>244</td>\n      <td>0</td>\n      <td>No</td>\n    </tr>\n    <tr>\n      <th>12275</th>\n      <td>Ivica Zubac</td>\n      <td>2019-20</td>\n      <td>22</td>\n      <td>LAC</td>\n      <td>NBA</td>\n      <td>C</td>\n      <td>72</td>\n      <td>70</td>\n      <td>1326</td>\n      <td>236</td>\n      <td>...</td>\n      <td>346</td>\n      <td>543</td>\n      <td>82</td>\n      <td>16</td>\n      <td>66</td>\n      <td>61</td>\n      <td>168</td>\n      <td>596</td>\n      <td>0</td>\n      <td>No</td>\n    </tr>\n    <tr>\n      <th>12276</th>\n      <td>Ivica Zubac</td>\n      <td>2020-21</td>\n      <td>23</td>\n      <td>LAC</td>\n      <td>NBA</td>\n      <td>C</td>\n      <td>34</td>\n      <td>1</td>\n      <td>670</td>\n      <td>109</td>\n      <td>...</td>\n      <td>155</td>\n      <td>233</td>\n      <td>37</td>\n      <td>12</td>\n      <td>28</td>\n      <td>33</td>\n      <td>84</td>\n      <td>285</td>\n      <td>0</td>\n      <td>No</td>\n    </tr>\n  </tbody>\n</table>\n<p>12277 rows × 33 columns</p>\n</div>"
     },
     "metadata": {},
     "execution_count": 20
    }
   ],
   "source": [
    "df"
   ]
  },
  {
   "cell_type": "code",
   "execution_count": 21,
   "metadata": {},
   "outputs": [
    {
     "output_type": "execute_result",
     "data": {
      "text/plain": [
       "Index(['player', 'season', 'age', 'team', 'league', 'position', 'games_played',\n",
       "       'games_started', 'minutes', 'fg', 'fga', 'fg_percent', 'threes_made',\n",
       "       'threes_attempted', 'threepoint_percent', 'twos_made', 'twos_attempted',\n",
       "       'twopoint_percent', 'efg', 'ft', 'fta', 'ft_percent', 'orb', 'drb',\n",
       "       'rebounds', 'assists', 'steals', 'blocks', 'turnovers', 'fouls',\n",
       "       'points', 'trip_dbl', 'all_star'],\n",
       "      dtype='object')"
      ]
     },
     "metadata": {},
     "execution_count": 21
    }
   ],
   "source": [
    "df.columns"
   ]
  },
  {
   "cell_type": "code",
   "execution_count": 22,
   "metadata": {},
   "outputs": [
    {
     "output_type": "execute_result",
     "data": {
      "text/plain": [
       "0        16.3\n",
       "1        24.6\n",
       "2        25.9\n",
       "3        26.2\n",
       "4        24.9\n",
       "         ... \n",
       "12272    17.6\n",
       "12273    15.6\n",
       "12274    20.2\n",
       "12275    18.4\n",
       "12276    19.7\n",
       "Length: 12277, dtype: float64"
      ]
     },
     "metadata": {},
     "execution_count": 22
    }
   ],
   "source": [
    "round(df['minutes'] / df['games_played'], 1)"
   ]
  },
  {
   "cell_type": "code",
   "execution_count": 23,
   "metadata": {},
   "outputs": [],
   "source": [
    "df['minutes_per_game'] = round(df['minutes'] / df['games_played'], 1)\n",
    "df['fg_per_game'] = round(df['fg'] / df['games_played'], 1)\n",
    "df['fga_per_game'] = round(df['fga'] / df['games_played'], 1)\n",
    "df['threes_made_per_game'] = round(df['threes_made'] / df['games_played'], 1)\n",
    "df['threes_attempted_per_game'] = round(df['threes_attempted'] / df['games_played'], 1)\n",
    "df['twos_made_per_game'] = round(df['twos_made'] / df['games_played'], 1)\n",
    "df['twos_attempted_per_game'] = round(df['twos_attempted'] / df['games_played'], 1)\n",
    "df['ft_per_game'] = round(df['ft'] / df['games_played'], 1)\n",
    "df['fta_per_game'] = round(df['fta'] / df['games_played'], 1)\n",
    "df['orb_per_game'] = round(df['orb'] / df['games_played'], 1)\n",
    "df['drb_per_game'] = round(df['drb'] / df['games_played'], 1)\n",
    "df['rebounds_per_game'] = round(df['rebounds'] / df['games_played'], 1)\n",
    "df['assists_per_game'] = round(df['assists'] / df['games_played'], 1)\n",
    "df['steals_per_game'] = round(df['steals'] / df['games_played'], 1)\n",
    "df['blocks_per_game'] = round(df['blocks'] / df['games_played'], 1)\n",
    "df['turnovers_per_game'] = round(df['turnovers'] / df['games_played'], 1)\n",
    "df['fouls_per_game'] = round(df['fouls'] / df['games_played'], 1)\n",
    "df['points_per_game'] = round(df['points'] / df['games_played'], 1)"
   ]
  },
  {
   "cell_type": "code",
   "execution_count": 24,
   "metadata": {},
   "outputs": [
    {
     "output_type": "execute_result",
     "data": {
      "text/plain": [
       "              player   season  age team league position  games_played  \\\n",
       "0  Tariq Abdul-Wahad  1997-98   23  SAC    NBA       SG            59   \n",
       "1  Tariq Abdul-Wahad  1998-99   24  SAC    NBA       SG            49   \n",
       "2  Tariq Abdul-Wahad  1999-00   25  TOT    NBA       SG            61   \n",
       "3  Tariq Abdul-Wahad  1999-00   25  ORL    NBA       SG            46   \n",
       "4  Tariq Abdul-Wahad  1999-00   25  DEN    NBA       SG            15   \n",
       "\n",
       "   games_started  minutes   fg  ...  fta_per_game  orb_per_game  drb_per_game  \\\n",
       "0             16      959  144  ...           2.1           0.7           1.2   \n",
       "1             49     1205  177  ...           2.8           1.5           2.3   \n",
       "2             56     1578  274  ...           3.2           1.7           3.1   \n",
       "3             46     1205  223  ...           3.3           1.7           3.5   \n",
       "4             10      373   51  ...           2.8           1.6           1.9   \n",
       "\n",
       "   rebounds_per_game  assists_per_game  steals_per_game  blocks_per_game  \\\n",
       "0                2.0               0.9              0.6              0.2   \n",
       "1                3.8               1.0              1.0              0.3   \n",
       "2                4.8               1.6              1.0              0.5   \n",
       "3                5.2               1.6              1.2              0.3   \n",
       "4                3.5               1.7              0.4              0.8   \n",
       "\n",
       "   turnovers_per_game  fouls_per_game  points_per_game  \n",
       "0                 1.1             1.4              6.4  \n",
       "1                 1.4             2.5              9.3  \n",
       "2                 1.7             2.4             11.4  \n",
       "3                 1.9             2.5             12.2  \n",
       "4                 1.3             2.1              8.9  \n",
       "\n",
       "[5 rows x 51 columns]"
      ],
      "text/html": "<div>\n<style scoped>\n    .dataframe tbody tr th:only-of-type {\n        vertical-align: middle;\n    }\n\n    .dataframe tbody tr th {\n        vertical-align: top;\n    }\n\n    .dataframe thead th {\n        text-align: right;\n    }\n</style>\n<table border=\"1\" class=\"dataframe\">\n  <thead>\n    <tr style=\"text-align: right;\">\n      <th></th>\n      <th>player</th>\n      <th>season</th>\n      <th>age</th>\n      <th>team</th>\n      <th>league</th>\n      <th>position</th>\n      <th>games_played</th>\n      <th>games_started</th>\n      <th>minutes</th>\n      <th>fg</th>\n      <th>...</th>\n      <th>fta_per_game</th>\n      <th>orb_per_game</th>\n      <th>drb_per_game</th>\n      <th>rebounds_per_game</th>\n      <th>assists_per_game</th>\n      <th>steals_per_game</th>\n      <th>blocks_per_game</th>\n      <th>turnovers_per_game</th>\n      <th>fouls_per_game</th>\n      <th>points_per_game</th>\n    </tr>\n  </thead>\n  <tbody>\n    <tr>\n      <th>0</th>\n      <td>Tariq Abdul-Wahad</td>\n      <td>1997-98</td>\n      <td>23</td>\n      <td>SAC</td>\n      <td>NBA</td>\n      <td>SG</td>\n      <td>59</td>\n      <td>16</td>\n      <td>959</td>\n      <td>144</td>\n      <td>...</td>\n      <td>2.1</td>\n      <td>0.7</td>\n      <td>1.2</td>\n      <td>2.0</td>\n      <td>0.9</td>\n      <td>0.6</td>\n      <td>0.2</td>\n      <td>1.1</td>\n      <td>1.4</td>\n      <td>6.4</td>\n    </tr>\n    <tr>\n      <th>1</th>\n      <td>Tariq Abdul-Wahad</td>\n      <td>1998-99</td>\n      <td>24</td>\n      <td>SAC</td>\n      <td>NBA</td>\n      <td>SG</td>\n      <td>49</td>\n      <td>49</td>\n      <td>1205</td>\n      <td>177</td>\n      <td>...</td>\n      <td>2.8</td>\n      <td>1.5</td>\n      <td>2.3</td>\n      <td>3.8</td>\n      <td>1.0</td>\n      <td>1.0</td>\n      <td>0.3</td>\n      <td>1.4</td>\n      <td>2.5</td>\n      <td>9.3</td>\n    </tr>\n    <tr>\n      <th>2</th>\n      <td>Tariq Abdul-Wahad</td>\n      <td>1999-00</td>\n      <td>25</td>\n      <td>TOT</td>\n      <td>NBA</td>\n      <td>SG</td>\n      <td>61</td>\n      <td>56</td>\n      <td>1578</td>\n      <td>274</td>\n      <td>...</td>\n      <td>3.2</td>\n      <td>1.7</td>\n      <td>3.1</td>\n      <td>4.8</td>\n      <td>1.6</td>\n      <td>1.0</td>\n      <td>0.5</td>\n      <td>1.7</td>\n      <td>2.4</td>\n      <td>11.4</td>\n    </tr>\n    <tr>\n      <th>3</th>\n      <td>Tariq Abdul-Wahad</td>\n      <td>1999-00</td>\n      <td>25</td>\n      <td>ORL</td>\n      <td>NBA</td>\n      <td>SG</td>\n      <td>46</td>\n      <td>46</td>\n      <td>1205</td>\n      <td>223</td>\n      <td>...</td>\n      <td>3.3</td>\n      <td>1.7</td>\n      <td>3.5</td>\n      <td>5.2</td>\n      <td>1.6</td>\n      <td>1.2</td>\n      <td>0.3</td>\n      <td>1.9</td>\n      <td>2.5</td>\n      <td>12.2</td>\n    </tr>\n    <tr>\n      <th>4</th>\n      <td>Tariq Abdul-Wahad</td>\n      <td>1999-00</td>\n      <td>25</td>\n      <td>DEN</td>\n      <td>NBA</td>\n      <td>SG</td>\n      <td>15</td>\n      <td>10</td>\n      <td>373</td>\n      <td>51</td>\n      <td>...</td>\n      <td>2.8</td>\n      <td>1.6</td>\n      <td>1.9</td>\n      <td>3.5</td>\n      <td>1.7</td>\n      <td>0.4</td>\n      <td>0.8</td>\n      <td>1.3</td>\n      <td>2.1</td>\n      <td>8.9</td>\n    </tr>\n  </tbody>\n</table>\n<p>5 rows × 51 columns</p>\n</div>"
     },
     "metadata": {},
     "execution_count": 24
    }
   ],
   "source": [
    "df.head()"
   ]
  },
  {
   "source": [
    "## Output final dataframe to CSV for easier handling"
   ],
   "cell_type": "markdown",
   "metadata": {}
  },
  {
   "cell_type": "code",
   "execution_count": 25,
   "metadata": {},
   "outputs": [],
   "source": [
    "df.to_csv('all_data.csv', encoding='utf-8', index=False)"
   ]
  },
  {
   "cell_type": "code",
   "execution_count": null,
   "metadata": {},
   "outputs": [],
   "source": []
  }
 ]
}